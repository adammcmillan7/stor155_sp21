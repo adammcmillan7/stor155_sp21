{
 "cells": [
  {
   "cell_type": "markdown",
   "metadata": {},
   "source": [
    "# Common tasks in python pandas\n",
    "To help you get started with the things you need to know for class. If you think of something useful to add, let me know and I'll consider adding it. I will update this as we go along if I have forgotten anything.\n",
    "\n",
    "**I have some more wordy descriptions at the bottom, plus links to more resources.**\n",
    "\n",
    "### This is just the very beginning\n",
    "You will learn more 'common tasks' as the course progresses.\n",
    "\n",
    "I will jump right in and add more stuff as needed/requested.\n",
    "\n",
    "This quick startup is intended to be even more elementary than other guides you might see, focusing just on what we need at this point in the course, and not very comprehensive."
   ]
  },
  {
   "cell_type": "markdown",
   "metadata": {},
   "source": [
    "### Run this first\n",
    "Makes pandas available to you."
   ]
  },
  {
   "cell_type": "code",
   "execution_count": 1,
   "metadata": {},
   "outputs": [],
   "source": [
    "import pandas as pd"
   ]
  },
  {
   "cell_type": "markdown",
   "metadata": {},
   "source": [
    "### Lists\n",
    "A sequence of data of any kind. Multiple types in a single list. \n",
    "\n",
    "Here I create a list of length three, save it as an object called `me`, and check its length with the *function* called `len`\n",
    "\n",
    "Comments are text in your code that python does not attempt to run. They start with a hash `#`."
   ]
  },
  {
   "cell_type": "code",
   "execution_count": 2,
   "metadata": {},
   "outputs": [],
   "source": [
    "# no output just saving\n",
    "me = ['Brendan', 'Robert', 'Brown']"
   ]
  },
  {
   "cell_type": "code",
   "execution_count": 3,
   "metadata": {},
   "outputs": [
    {
     "data": {
      "text/plain": [
       "3"
      ]
     },
     "execution_count": 3,
     "metadata": {},
     "output_type": "execute_result"
    }
   ],
   "source": [
    "# show the output of function len with argument me\n",
    "len(me)"
   ]
  },
  {
   "cell_type": "code",
   "execution_count": 4,
   "metadata": {},
   "outputs": [
    {
     "data": {
      "text/plain": [
       "(3, ['Brendan', 'Robert', 'Brown'])"
      ]
     },
     "execution_count": 4,
     "metadata": {},
     "output_type": "execute_result"
    }
   ],
   "source": [
    "# seperate multiple outputs with a comma\n",
    "len(me), me"
   ]
  },
  {
   "cell_type": "markdown",
   "metadata": {},
   "source": [
    "### Data types\n",
    "Words are not numbers are not True/False (boolean) values. These are different data types. We will primarily use\n",
    "\n",
    "- strings, written str in python\n",
    "- numbers with decimals, called float\n",
    "- integers, called int\n",
    "- True/False values, called bool\n",
    "\n",
    "Check the type of something with the *function* called `type`"
   ]
  },
  {
   "cell_type": "code",
   "execution_count": 5,
   "metadata": {},
   "outputs": [
    {
     "data": {
      "text/plain": [
       "(int, float, str, bool)"
      ]
     },
     "execution_count": 5,
     "metadata": {},
     "output_type": "execute_result"
    }
   ],
   "source": [
    "type(1), type(1.0), type(\"one\"), type(True)"
   ]
  },
  {
   "cell_type": "markdown",
   "metadata": {},
   "source": [
    "### Object types\n",
    "A list is a type of python object. We will see more. \n",
    "\n",
    "The `type` function works here too."
   ]
  },
  {
   "cell_type": "code",
   "execution_count": 6,
   "metadata": {},
   "outputs": [
    {
     "data": {
      "text/plain": [
       "list"
      ]
     },
     "execution_count": 6,
     "metadata": {},
     "output_type": "execute_result"
    }
   ],
   "source": [
    "# I am the list type, as you can see\n",
    "type(me)"
   ]
  },
  {
   "cell_type": "markdown",
   "metadata": {},
   "source": [
    "### Indexing lists\n",
    "To select a single list item from `me`, or range of list items, use square brackets. This is called indexing.\n",
    "\n",
    "Indexing starts at 0 and goes up to the length minus one for a list."
   ]
  },
  {
   "cell_type": "code",
   "execution_count": 7,
   "metadata": {},
   "outputs": [
    {
     "data": {
      "text/plain": [
       "('Brendan', 'Brown')"
      ]
     },
     "execution_count": 7,
     "metadata": {},
     "output_type": "execute_result"
    }
   ],
   "source": [
    "# one thing at a time\n",
    "me[0], me[2]"
   ]
  },
  {
   "cell_type": "code",
   "execution_count": 8,
   "metadata": {},
   "outputs": [
    {
     "data": {
      "text/plain": [
       "['Brendan', 'Robert']"
      ]
     },
     "execution_count": 8,
     "metadata": {},
     "output_type": "execute_result"
    }
   ],
   "source": [
    "# multiple with :\n",
    "# right endpoint index not included!\n",
    "me[0:2]"
   ]
  },
  {
   "cell_type": "code",
   "execution_count": 9,
   "metadata": {},
   "outputs": [
    {
     "data": {
      "text/plain": [
       "['Robert', 'Brown']"
      ]
     },
     "execution_count": 9,
     "metadata": {},
     "output_type": "execute_result"
    }
   ],
   "source": [
    "# open ended grabs all remaining index values\n",
    "me[1:]"
   ]
  },
  {
   "cell_type": "code",
   "execution_count": 10,
   "metadata": {},
   "outputs": [
    {
     "data": {
      "text/plain": [
       "['Brendan', 'Robert']"
      ]
     },
     "execution_count": 10,
     "metadata": {},
     "output_type": "execute_result"
    }
   ],
   "source": [
    "# right endpoint index not included!\n",
    "me[:2]"
   ]
  },
  {
   "cell_type": "markdown",
   "metadata": {},
   "source": [
    "### Value assignment\n",
    "Replace or assign a single value by referencing its index and setting it with `=`.\n",
    "\n",
    "Lists can have mutiple types of data! This makes them relatively special."
   ]
  },
  {
   "cell_type": "code",
   "execution_count": 11,
   "metadata": {},
   "outputs": [],
   "source": [
    "# no output, just doing assignment\n",
    "me[0] = 1010\n",
    "me[2] = False"
   ]
  },
  {
   "cell_type": "markdown",
   "metadata": {},
   "source": [
    "Assign to an object that doesn't yet exist and you will get an error"
   ]
  },
  {
   "cell_type": "code",
   "execution_count": 12,
   "metadata": {},
   "outputs": [
    {
     "ename": "NameError",
     "evalue": "name 'm' is not defined",
     "output_type": "error",
     "traceback": [
      "\u001b[0;31m---------------------------------------------------------------------------\u001b[0m",
      "\u001b[0;31mNameError\u001b[0m                                 Traceback (most recent call last)",
      "\u001b[0;32m<ipython-input-12-d0c467412e94>\u001b[0m in \u001b[0;36m<module>\u001b[0;34m\u001b[0m\n\u001b[1;32m      1\u001b[0m \u001b[0;31m# we have not created anything called m\u001b[0m\u001b[0;34m\u001b[0m\u001b[0;34m\u001b[0m\u001b[0;34m\u001b[0m\u001b[0m\n\u001b[0;32m----> 2\u001b[0;31m \u001b[0mm\u001b[0m\u001b[0;34m[\u001b[0m\u001b[0;36m0\u001b[0m\u001b[0;34m]\u001b[0m \u001b[0;34m=\u001b[0m \u001b[0;34m\"oops\"\u001b[0m\u001b[0;34m\u001b[0m\u001b[0;34m\u001b[0m\u001b[0m\n\u001b[0m",
      "\u001b[0;31mNameError\u001b[0m: name 'm' is not defined"
     ]
    }
   ],
   "source": [
    "# we have not created anything called m\n",
    "m[0] = \"oops\""
   ]
  },
  {
   "cell_type": "markdown",
   "metadata": {},
   "source": [
    "### List comprehensions\n",
    "Run a function on each item in the list, then return a list of the results.\n",
    "\n",
    "This is called a list comprension and is very useful.\n",
    "\n",
    "Here, check the type of each element in the list and return the results as another list.\n",
    "\n",
    "`x` is a placeholder for a generic element of the list `me`. `for x in me` says to set `x` to each item of the list `me` in turn."
   ]
  },
  {
   "cell_type": "code",
   "execution_count": null,
   "metadata": {},
   "outputs": [],
   "source": [
    "out = [type(x) for x in me]\n",
    "\n",
    "type(out), out, me"
   ]
  },
  {
   "cell_type": "code",
   "execution_count": null,
   "metadata": {},
   "outputs": [],
   "source": [
    "# x is a placeholder. I could have named it any other name (within some naming rules you need not know now)\n",
    "\n",
    "[type(anything) for anything in me]"
   ]
  },
  {
   "cell_type": "markdown",
   "metadata": {},
   "source": [
    "### Pandas Series\n",
    "A series is an object type from pandas. \n",
    "\n",
    "Create one from a list using the *pandas function pd.Series*"
   ]
  },
  {
   "cell_type": "code",
   "execution_count": null,
   "metadata": {},
   "outputs": [],
   "source": [
    "me_name = pd.Series(me)"
   ]
  },
  {
   "cell_type": "code",
   "execution_count": null,
   "metadata": {},
   "outputs": [],
   "source": [
    "type(me_name)"
   ]
  },
  {
   "cell_type": "code",
   "execution_count": null,
   "metadata": {},
   "outputs": [],
   "source": [
    "me_name"
   ]
  },
  {
   "cell_type": "markdown",
   "metadata": {},
   "source": [
    "This looks the same. **Why bother?**\n",
    "\n",
    "A series has many specialized tools in pandas that do not work on lists, beyond the scope of this little intro. See the more comprehensive beginner guides linked at the bottom.\n",
    "\n",
    "I will mention a few things though."
   ]
  },
  {
   "cell_type": "markdown",
   "metadata": {},
   "source": [
    "### Indexing series\n",
    "Indexes play an important role in pandas.\n",
    "\n",
    "A series can be indexed the same way as a list. But it also can be indexed with more useful labels.\n",
    "\n",
    "Access the index of a series with `.index` after the series object name."
   ]
  },
  {
   "cell_type": "code",
   "execution_count": null,
   "metadata": {},
   "outputs": [],
   "source": [
    "# access the first element, same as for a list\n",
    "me_name[0]"
   ]
  },
  {
   "cell_type": "code",
   "execution_count": null,
   "metadata": {},
   "outputs": [],
   "source": [
    "# or create the series with a more informative index\n",
    "# here I wrote over the old object called me_name and replaced it with the new one\n",
    "me_name = pd.Series(['Brendan', 'Robert', 'Brown'], index = ['first', 'middle', 'last'])\n",
    "me_name"
   ]
  },
  {
   "cell_type": "code",
   "execution_count": null,
   "metadata": {},
   "outputs": [],
   "source": [
    "# view the index.  it's also a series!\n",
    "me_name.index, type(me_name.index)"
   ]
  },
  {
   "cell_type": "markdown",
   "metadata": {},
   "source": [
    "### Accessing series elements by index\n",
    "Now you can access elements in the series by the new index names. You're always allowed to use the default numerical index names!"
   ]
  },
  {
   "cell_type": "code",
   "execution_count": null,
   "metadata": {},
   "outputs": [],
   "source": [
    "me_name['first'], me_name[0]"
   ]
  },
  {
   "cell_type": "markdown",
   "metadata": {},
   "source": [
    "### Dictionaries\n",
    "A dictionary is yet another object type that initially will look similar to a series. It holds values that are indexed by names called `keys` and the values are called `values`.\n",
    "\n",
    "Create one using curly braces `{}` as follows:  a dictionary holding the same information as the me_name series.\n",
    "\n",
    "Dictionary elements can even be lists."
   ]
  },
  {
   "cell_type": "code",
   "execution_count": null,
   "metadata": {},
   "outputs": [],
   "source": [
    "me_again = {'first': 'Brendan', 'middle': 'Robert', 'last': 'Brown'}\n",
    "\n",
    "type(me_again), me_again"
   ]
  },
  {
   "cell_type": "code",
   "execution_count": null,
   "metadata": {},
   "outputs": [],
   "source": [
    "friends = {'first': ['Brendan', 'Winnie'], 'middle': ['Robert', 'The'], 'last': ['Brown', 'Pooh']}\n",
    "\n",
    "friends"
   ]
  },
  {
   "cell_type": "markdown",
   "metadata": {},
   "source": [
    "### Create a series from a dictionary\n",
    "As you expect, the keys become the index when you convert a dictionary to a series."
   ]
  },
  {
   "cell_type": "code",
   "execution_count": null,
   "metadata": {},
   "outputs": [],
   "source": [
    "me_again = pd.Series({'first': 'Brendan', 'middle': 'Robert', 'last': 'Brown'})\n",
    "\n",
    "me_again.index, me_again.values"
   ]
  },
  {
   "cell_type": "markdown",
   "metadata": {},
   "source": [
    "### Pandas data frame\n",
    "\n",
    "A data frame is the pandas version of a spreadsheet.\n",
    "\n",
    "In this course, you should think of it this way: columns hold variables, rows hold observations.\n",
    "\n",
    "Create a data frame from a dictionary. **Keys now become column names!**"
   ]
  },
  {
   "cell_type": "code",
   "execution_count": null,
   "metadata": {},
   "outputs": [],
   "source": [
    "# just creating the object, no output\n",
    "d = pd.DataFrame(friends)"
   ]
  },
  {
   "cell_type": "code",
   "execution_count": null,
   "metadata": {},
   "outputs": [],
   "source": [
    "type(d)"
   ]
  },
  {
   "cell_type": "code",
   "execution_count": null,
   "metadata": {},
   "outputs": [],
   "source": [
    "d"
   ]
  },
  {
   "cell_type": "markdown",
   "metadata": {},
   "source": [
    "Or create a data frame from a list of series. **Series indexes now become column names!**"
   ]
  },
  {
   "cell_type": "code",
   "execution_count": null,
   "metadata": {},
   "outputs": [],
   "source": [
    "pooh_name = pd.Series(['Winnie', 'The', 'Pooh'], index = ['first', 'middle', 'last'])\n",
    "pd.DataFrame([me_name, pooh_name])"
   ]
  },
  {
   "cell_type": "markdown",
   "metadata": {},
   "source": [
    "### Data frame columns and indexes\n",
    "With two dimensions in a data frame we need two kinds of indices. \n",
    "\n",
    "View column names with `.columns`. It's considered an 'index' of column information."
   ]
  },
  {
   "cell_type": "code",
   "execution_count": null,
   "metadata": {},
   "outputs": [],
   "source": [
    "d.columns"
   ]
  },
  {
   "cell_type": "markdown",
   "metadata": {},
   "source": [
    "View *row* indexes with `.index`"
   ]
  },
  {
   "cell_type": "code",
   "execution_count": null,
   "metadata": {},
   "outputs": [],
   "source": [
    "d.index"
   ]
  },
  {
   "cell_type": "markdown",
   "metadata": {},
   "source": [
    "Data frames can also be created with more useful row index names.\n",
    "\n",
    "**Important: Indexes should uniquely identify your observations.**\n",
    "\n",
    "We can't have two bears walking around now can we? How will we know which is which?"
   ]
  },
  {
   "cell_type": "code",
   "execution_count": null,
   "metadata": {},
   "outputs": [],
   "source": [
    "d = pd.DataFrame(friends, index = ['human', 'bear'])\n",
    "d"
   ]
  },
  {
   "cell_type": "markdown",
   "metadata": {},
   "source": [
    "### Accessing rows of a data frame with .loc and .iloc\n",
    "There are several ways to access rows/columns of a data frame. I will show only `.loc` and `.iloc` because they are the most useful across a variety of cases.\n",
    "\n",
    "First I need more friends."
   ]
  },
  {
   "cell_type": "code",
   "execution_count": null,
   "metadata": {},
   "outputs": [],
   "source": [
    "eeyore = pd.Series(['Eeyore', 'the', 'Donkey'], index = ['first', 'middle', 'last'])\n",
    "\n",
    "d = pd.DataFrame([me_name, pooh_name, eeyore], index = ['human', 'bear', 'horse'])\n",
    "\n",
    "d"
   ]
  },
  {
   "cell_type": "markdown",
   "metadata": {},
   "source": [
    "Every row of a data frame is a series object.\n",
    "\n",
    "Access the rows of an object using row index *names* with `.loc[]` "
   ]
  },
  {
   "cell_type": "code",
   "execution_count": null,
   "metadata": {},
   "outputs": [],
   "source": [
    "# first row\n",
    "type(d.loc['human']), d.loc['human']"
   ]
  },
  {
   "cell_type": "markdown",
   "metadata": {},
   "source": [
    "Access the rows of an object using *default row index (numbers starting from 0)* with `.iloc[]` "
   ]
  },
  {
   "cell_type": "code",
   "execution_count": null,
   "metadata": {},
   "outputs": [],
   "source": [
    "# first row\n",
    "type(d.iloc[0]), d.iloc[0]"
   ]
  },
  {
   "cell_type": "markdown",
   "metadata": {},
   "source": [
    "Access multiple rows with either method using `:` as before, works in both `.loc` and `.iloc`\n",
    "\n",
    "**Notice I get back a data frame here, not a series, since I selected multiple rows.**"
   ]
  },
  {
   "cell_type": "code",
   "execution_count": null,
   "metadata": {},
   "outputs": [],
   "source": [
    "d.loc['bear':]"
   ]
  },
  {
   "cell_type": "code",
   "execution_count": null,
   "metadata": {},
   "outputs": [],
   "source": [
    "type(d.loc['bear':])"
   ]
  },
  {
   "cell_type": "markdown",
   "metadata": {},
   "source": [
    "Or select several specific ones by using a list of indexes in `.loc[]`"
   ]
  },
  {
   "cell_type": "code",
   "execution_count": null,
   "metadata": {},
   "outputs": [],
   "source": [
    "d.loc[['human', 'horse']]"
   ]
  },
  {
   "cell_type": "markdown",
   "metadata": {},
   "source": [
    "### Accessing columns of a data frame\n",
    "This works similarly, but now we need to distinguish rows from columns in `.loc` and `.iloc`\n",
    "\n",
    "Do that by placing a comma in `[row_stuff, column_stuff]`\n",
    "\n",
    "Every row of a data frame is a series object.\n",
    "\n",
    "Access the rows of an object using column *names* with `.loc[]` "
   ]
  },
  {
   "cell_type": "code",
   "execution_count": null,
   "metadata": {},
   "outputs": [],
   "source": [
    "# first column, all rows with :\n",
    "type(d.loc[:, 'first']), d.loc[:, 'first']"
   ]
  },
  {
   "cell_type": "markdown",
   "metadata": {},
   "source": [
    "Or use `.iloc` where columns are now numbered starting from zero, left to right."
   ]
  },
  {
   "cell_type": "code",
   "execution_count": null,
   "metadata": {},
   "outputs": [],
   "source": [
    "# first row\n",
    "type(d.iloc[:, 0]), d.iloc[:, 0]"
   ]
  },
  {
   "cell_type": "markdown",
   "metadata": {},
   "source": [
    "Again you can do multiple with either method"
   ]
  },
  {
   "cell_type": "code",
   "execution_count": null,
   "metadata": {},
   "outputs": [],
   "source": [
    "# returns a data frame!\n",
    "d.loc[:, :'middle']"
   ]
  },
  {
   "cell_type": "code",
   "execution_count": null,
   "metadata": {},
   "outputs": [],
   "source": [
    "type(d.loc[:, :'middle'])"
   ]
  },
  {
   "cell_type": "markdown",
   "metadata": {},
   "source": [
    "Or select several specific ones by using a list of columns in `.loc[]`"
   ]
  },
  {
   "cell_type": "code",
   "execution_count": null,
   "metadata": {},
   "outputs": [],
   "source": [
    "d.loc[:, ['first', 'last']]"
   ]
  },
  {
   "cell_type": "markdown",
   "metadata": {},
   "source": [
    "### Selecting rows and columns\n",
    "\n",
    "This should be easy now. Check and see if they show what you expect. Some examples"
   ]
  },
  {
   "cell_type": "code",
   "execution_count": null,
   "metadata": {},
   "outputs": [],
   "source": [
    "d"
   ]
  },
  {
   "cell_type": "code",
   "execution_count": null,
   "metadata": {},
   "outputs": [],
   "source": [
    "d.loc['bear':, :'middle']"
   ]
  },
  {
   "cell_type": "code",
   "execution_count": null,
   "metadata": {},
   "outputs": [],
   "source": [
    "# a single object of type str\n",
    "type(d.loc['bear', 'middle']), d.loc['bear', 'middle']"
   ]
  },
  {
   "cell_type": "code",
   "execution_count": null,
   "metadata": {},
   "outputs": [],
   "source": [
    "d.iloc[1:, 0]"
   ]
  },
  {
   "cell_type": "code",
   "execution_count": null,
   "metadata": {},
   "outputs": [],
   "source": [
    "d.iloc[[0, 1], 0]"
   ]
  },
  {
   "cell_type": "code",
   "execution_count": null,
   "metadata": {},
   "outputs": [],
   "source": [
    "d.iloc[[0, 2], [0, 2]]"
   ]
  },
  {
   "cell_type": "code",
   "execution_count": null,
   "metadata": {},
   "outputs": [],
   "source": [
    "d.loc[['human', 'horse'], ['first', 'last']]"
   ]
  },
  {
   "cell_type": "markdown",
   "metadata": {},
   "source": [
    "# Further reading"
   ]
  },
  {
   "cell_type": "markdown",
   "metadata": {},
   "source": [
    "### More detailed beginner guides\n",
    "\n",
    "If this cookbook is not enough, or you don't like this style, some good introductions to the two packages we will use throughout the course are here:\n",
    "\n",
    "- [Introduction to Pandas](https://developers.arcgis.com/python/guide/part3-introduction-to-pandas/)\n",
    "- [Introduction to Numpy](https://developers.arcgis.com/python/guide/part2-introduction-to-numpy/)\n",
    "\n",
    "- [10 minutes to Pandas](https://pandas.pydata.org/pandas-docs/stable/user_guide/10min.html)\n",
    "- [Numpy for absolute beginners](https://numpy.org/doc/stable/user/absolute_beginners.html)\n",
    "\n",
    "The first two resources are from the ArcGIS website, a software that we will not use but that has extensive interaction with python. These guides are nonetheless very good and thorough.\n",
    "\n",
    "The second two are from the **documentation pages for pandas and numpy**, which have many details on all possible functionality for these packages.\n"
   ]
  },
  {
   "cell_type": "markdown",
   "metadata": {},
   "source": [
    "### If you have never coded before\n",
    "\n",
    "Don't worry. The first hour or two might be rather frustrating, but once you start getting used to it things should go more smoothly. \n",
    "\n",
    "- expect errors and crazy-looking error messages\n",
    "- walk through the basic stuff below \n",
    "- follow the links to more detailed tutorials\n",
    "- play!\n",
    "- show up to the data homework demos on Thursdays\n",
    "- ask me for help\n",
    "\n",
    "\n",
    "### Very very high level intro\n",
    "We will be writing lines of code, which give instructions to your computer to do something, in the python language. By 'running' code I will mean the instructions we have written are actually executed (or attempted to be executed).\n",
    "\n",
    "The building blocks of code used in this class will be\n",
    "\n",
    "- functions and methods: takes input(s), does something and returns output(s)\n",
    "- data objects: lists, numpy arrays, pandas series, data frames\n",
    "\n",
    "You will see examples of these throughout this cookbook, and I will try to call out what is what to orient you."
   ]
  },
  {
   "cell_type": "markdown",
   "metadata": {},
   "source": [
    "### Jupyter notebooks\n",
    "\n",
    "Each little cell holds code (or text, like this one). They can be run in any order but keep your program in top-to-bottom order!\n",
    "\n",
    "For example, if you reference an object called d then be sure your code to create that object is in a cell above where you created it.\n",
    "\n",
    "Some initial tips:\n",
    "\n",
    "- strive to write code that produces at most one output (meaning a printed table or plot) for each cell. A cell need not produce any ouput.\n",
    "\n",
    "- run the cell with Shift Enter.\n",
    "\n",
    "- right-click the cell to see more options.\n",
    "\n",
    "- export your final product running all cells by selecting File > Export Notebook as > Export Notebook to HTML\n",
    "\n",
    "Get more help, e.g. more keyboard shortcuts, through the Jupyter Lab help menu at Help > JupyterLab Reference > Notebooks\n",
    "\n",
    "### Step one: Each notebook in this class should have the following cell before all other code \n",
    "Packages/libraries in python contain functions and other tools you might want to use, in addition to those python loads automatically.\n",
    "\n",
    "To make these available, you need to import them. And usually you want to import them with a convenient abbreviation for ease of use, such as pd to stand for pandas."
   ]
  },
  {
   "cell_type": "code",
   "execution_count": null,
   "metadata": {},
   "outputs": [],
   "source": [
    "import pandas as pd"
   ]
  },
  {
   "cell_type": "markdown",
   "metadata": {},
   "source": [
    "Often you also will want to import numpy, the other package we will use regularly in the course. Do that using the standard abbreviation for this package, np:"
   ]
  },
  {
   "cell_type": "code",
   "execution_count": null,
   "metadata": {},
   "outputs": [],
   "source": [
    "import numpy as np"
   ]
  },
  {
   "cell_type": "markdown",
   "metadata": {},
   "source": [
    "These two cells of code, when run, now make available all of the functionality in pandas and numpy"
   ]
  }
 ],
 "metadata": {
  "kernelspec": {
   "display_name": "Python 3",
   "language": "python",
   "name": "python3"
  },
  "language_info": {
   "codemirror_mode": {
    "name": "ipython",
    "version": 3
   },
   "file_extension": ".py",
   "mimetype": "text/x-python",
   "name": "python",
   "nbconvert_exporter": "python",
   "pygments_lexer": "ipython3",
   "version": "3.8.2"
  }
 },
 "nbformat": 4,
 "nbformat_minor": 4
}
