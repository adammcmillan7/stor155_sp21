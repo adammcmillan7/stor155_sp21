{
 "cells": [
  {
   "cell_type": "markdown",
   "metadata": {},
   "source": [
    "## Air quality in my living room\n",
    "I have a little device to take particle concentration measurements, set up in my living room. This data is from approximately 4-8 pm one day in January.\n",
    "\n",
    "### What the variables mean\n",
    "\n",
    "- PM x is the concentration of particles with diameter x microns, in micrograms per cubic meter\n",
    "- e.g. PM 2.5 is for particles of diameter 2.5 microns, which includes soot\n",
    "\n",
    "Learn more about"
   ]
  },
  {
   "cell_type": "code",
   "execution_count": null,
   "metadata": {},
   "outputs": [],
   "source": []
  }
 ],
 "metadata": {
  "kernelspec": {
   "display_name": "Python 3",
   "language": "python",
   "name": "python3"
  },
  "language_info": {
   "codemirror_mode": {
    "name": "ipython",
    "version": 3
   },
   "file_extension": ".py",
   "mimetype": "text/x-python",
   "name": "python",
   "nbconvert_exporter": "python",
   "pygments_lexer": "ipython3",
   "version": "3.8.2"
  }
 },
 "nbformat": 4,
 "nbformat_minor": 4
}
