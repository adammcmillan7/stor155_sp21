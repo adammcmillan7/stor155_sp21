{
 "cells": [
  {
   "cell_type": "markdown",
   "metadata": {},
   "source": [
    "# Instructions for data hw 0\n",
    "## for excel and python users\n",
    "\n",
    "In this homework, you will be familiarizing yourself with how to\n",
    "\n",
    "- load datasets\n",
    "- a few basic functions for your computational tool of choice\n",
    "- submit homework by following the instructions on the homepage at [github.com/brendanrbrown/stor155_sp21](https://github.com/brendanrbrown/stor155_sp21)\n",
    "\n",
    "### Dataset\n",
    "In this homework, you will use the dataset in\n",
    "\n",
    "- `stats_scores.xlsx` for excel users\n",
    "- `stats_scores.csv` for python pandas users\n",
    "\n",
    "Datasets in this course always will have a `.xlsx` version for excel users and a `.csv` version for pandas users.\n",
    "\n",
    "**This is a dummy dataset. In future homework you will use actual datasets with real information**, which I hope will be more interesting.\n",
    "\n",
    "### Q1\n",
    "\n",
    "- **Load** the data with excel/pandas according to the instructions on the course github homepage\n",
    "- **Calculate** (with the functions in excel/python!) and display the following quantities about the variable score: \n",
    "    - mininimum value\n",
    "    - maximum value\n",
    "    - number of observations\n",
    "    - average (mean) value\n",
    "\n",
    "### Q2\n",
    "- **Create** a new variable called `scores_centered` in which each value is the corresponding value of `score` minus the average value calculated above\n",
    "- **Calculate** and display the mean of `scores_centered`\n",
    "\n",
    "\n",
    "### Note\n",
    "\n",
    "- You must actually calculate the quantities I request using your tool of choice. \n",
    "- Calculating by hand (or just entering, say, the number of observations by hand **will get no credit at all**\n",
    "- Doing so might be easy for this small dataset, but it will not be for datasets of any reasonable size like ones we will see later\n",
    "- See the syllabus for guidelines on showing your work in data homework"
   ]
  }
 ],
 "metadata": {
  "kernelspec": {
   "display_name": "Python 3",
   "language": "python",
   "name": "python3"
  },
  "language_info": {
   "codemirror_mode": {
    "name": "ipython",
    "version": 3
   },
   "file_extension": ".py",
   "mimetype": "text/x-python",
   "name": "python",
   "nbconvert_exporter": "python",
   "pygments_lexer": "ipython3",
   "version": "3.8.2"
  }
 },
 "nbformat": 4,
 "nbformat_minor": 4
}
